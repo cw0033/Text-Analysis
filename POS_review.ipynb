{
 "cells": [
  {
   "cell_type": "code",
   "execution_count": 14,
   "metadata": {},
   "outputs": [],
   "source": [
    "import pandas as pd\n",
    "import nltk\n",
    "from nltk.tokenize import word_tokenize\n",
    "from nltk.corpus import stopwords\n",
    "from collections import Counter"
   ]
  },
  {
   "cell_type": "code",
   "execution_count": 15,
   "metadata": {},
   "outputs": [],
   "source": [
    "df = pd.read_csv(\"/Users/emilywu/Desktop/MMA/Text Analysis/Party_Animal_Steam_Review_Data_processed.csv\")"
   ]
  },
  {
   "cell_type": "code",
   "execution_count": 6,
   "metadata": {},
   "outputs": [
    {
     "data": {
      "text/html": [
       "<div>\n",
       "<style scoped>\n",
       "    .dataframe tbody tr th:only-of-type {\n",
       "        vertical-align: middle;\n",
       "    }\n",
       "\n",
       "    .dataframe tbody tr th {\n",
       "        vertical-align: top;\n",
       "    }\n",
       "\n",
       "    .dataframe thead th {\n",
       "        text-align: right;\n",
       "    }\n",
       "</style>\n",
       "<table border=\"1\" class=\"dataframe\">\n",
       "  <thead>\n",
       "    <tr style=\"text-align: right;\">\n",
       "      <th></th>\n",
       "      <th>recommendationid</th>\n",
       "      <th>language</th>\n",
       "      <th>review</th>\n",
       "      <th>timestamp_created</th>\n",
       "      <th>timestamp_updated</th>\n",
       "      <th>voted_up</th>\n",
       "      <th>votes_up</th>\n",
       "      <th>votes_funny</th>\n",
       "      <th>weighted_vote_score</th>\n",
       "      <th>comment_count</th>\n",
       "      <th>...</th>\n",
       "      <th>steam_china_location</th>\n",
       "      <th>timestamp_dev_responded</th>\n",
       "      <th>developer_response</th>\n",
       "      <th>steamid</th>\n",
       "      <th>num_games_owned</th>\n",
       "      <th>num_reviews</th>\n",
       "      <th>playtime_forever</th>\n",
       "      <th>playtime_last_two_weeks</th>\n",
       "      <th>playtime_at_review</th>\n",
       "      <th>last_played</th>\n",
       "    </tr>\n",
       "  </thead>\n",
       "  <tbody>\n",
       "    <tr>\n",
       "      <th>0</th>\n",
       "      <td>157603005</td>\n",
       "      <td>english</td>\n",
       "      <td>Fun game to play when you've had a long day an...</td>\n",
       "      <td>1707077354</td>\n",
       "      <td>1707077354</td>\n",
       "      <td>True</td>\n",
       "      <td>0</td>\n",
       "      <td>0</td>\n",
       "      <td>0.0</td>\n",
       "      <td>0</td>\n",
       "      <td>...</td>\n",
       "      <td>NaN</td>\n",
       "      <td>NaN</td>\n",
       "      <td>NaN</td>\n",
       "      <td>76561199401546423</td>\n",
       "      <td>0</td>\n",
       "      <td>1</td>\n",
       "      <td>2027</td>\n",
       "      <td>322</td>\n",
       "      <td>1986</td>\n",
       "      <td>1707079884</td>\n",
       "    </tr>\n",
       "    <tr>\n",
       "      <th>1</th>\n",
       "      <td>157602265</td>\n",
       "      <td>english</td>\n",
       "      <td>Pros:\\n-Animals\\n-Party\\n-Funny mechanics\\n-A ...</td>\n",
       "      <td>1707076676</td>\n",
       "      <td>1707076676</td>\n",
       "      <td>True</td>\n",
       "      <td>0</td>\n",
       "      <td>0</td>\n",
       "      <td>0.0</td>\n",
       "      <td>0</td>\n",
       "      <td>...</td>\n",
       "      <td>NaN</td>\n",
       "      <td>NaN</td>\n",
       "      <td>NaN</td>\n",
       "      <td>76561198056822321</td>\n",
       "      <td>0</td>\n",
       "      <td>2</td>\n",
       "      <td>316</td>\n",
       "      <td>316</td>\n",
       "      <td>316</td>\n",
       "      <td>1707076353</td>\n",
       "    </tr>\n",
       "    <tr>\n",
       "      <th>2</th>\n",
       "      <td>157598111</td>\n",
       "      <td>english</td>\n",
       "      <td>10/10 Would drop kick a cat without feeling bad</td>\n",
       "      <td>1707072837</td>\n",
       "      <td>1707072837</td>\n",
       "      <td>True</td>\n",
       "      <td>0</td>\n",
       "      <td>1</td>\n",
       "      <td>0.0</td>\n",
       "      <td>0</td>\n",
       "      <td>...</td>\n",
       "      <td>NaN</td>\n",
       "      <td>NaN</td>\n",
       "      <td>NaN</td>\n",
       "      <td>76561198428748427</td>\n",
       "      <td>0</td>\n",
       "      <td>1</td>\n",
       "      <td>847</td>\n",
       "      <td>410</td>\n",
       "      <td>804</td>\n",
       "      <td>1707075660</td>\n",
       "    </tr>\n",
       "    <tr>\n",
       "      <th>3</th>\n",
       "      <td>157592673</td>\n",
       "      <td>english</td>\n",
       "      <td>Very fun game. The animals are very cute, the ...</td>\n",
       "      <td>1707068019</td>\n",
       "      <td>1707068019</td>\n",
       "      <td>True</td>\n",
       "      <td>0</td>\n",
       "      <td>0</td>\n",
       "      <td>0.0</td>\n",
       "      <td>0</td>\n",
       "      <td>...</td>\n",
       "      <td>NaN</td>\n",
       "      <td>NaN</td>\n",
       "      <td>NaN</td>\n",
       "      <td>76561197987140501</td>\n",
       "      <td>0</td>\n",
       "      <td>10</td>\n",
       "      <td>7864</td>\n",
       "      <td>600</td>\n",
       "      <td>7712</td>\n",
       "      <td>1707109536</td>\n",
       "    </tr>\n",
       "    <tr>\n",
       "      <th>4</th>\n",
       "      <td>157588222</td>\n",
       "      <td>english</td>\n",
       "      <td>Game has been out for 4 months and they only a...</td>\n",
       "      <td>1707064205</td>\n",
       "      <td>1707064205</td>\n",
       "      <td>False</td>\n",
       "      <td>0</td>\n",
       "      <td>0</td>\n",
       "      <td>0.0</td>\n",
       "      <td>0</td>\n",
       "      <td>...</td>\n",
       "      <td>NaN</td>\n",
       "      <td>NaN</td>\n",
       "      <td>NaN</td>\n",
       "      <td>76561198024864749</td>\n",
       "      <td>375</td>\n",
       "      <td>17</td>\n",
       "      <td>1456</td>\n",
       "      <td>0</td>\n",
       "      <td>1456</td>\n",
       "      <td>1701029993</td>\n",
       "    </tr>\n",
       "  </tbody>\n",
       "</table>\n",
       "<p>5 rows × 24 columns</p>\n",
       "</div>"
      ],
      "text/plain": [
       "   recommendationid language  \\\n",
       "0         157603005  english   \n",
       "1         157602265  english   \n",
       "2         157598111  english   \n",
       "3         157592673  english   \n",
       "4         157588222  english   \n",
       "\n",
       "                                              review  timestamp_created  \\\n",
       "0  Fun game to play when you've had a long day an...         1707077354   \n",
       "1  Pros:\\n-Animals\\n-Party\\n-Funny mechanics\\n-A ...         1707076676   \n",
       "2    10/10 Would drop kick a cat without feeling bad         1707072837   \n",
       "3  Very fun game. The animals are very cute, the ...         1707068019   \n",
       "4  Game has been out for 4 months and they only a...         1707064205   \n",
       "\n",
       "   timestamp_updated  voted_up  votes_up  votes_funny  weighted_vote_score  \\\n",
       "0         1707077354      True         0            0                  0.0   \n",
       "1         1707076676      True         0            0                  0.0   \n",
       "2         1707072837      True         0            1                  0.0   \n",
       "3         1707068019      True         0            0                  0.0   \n",
       "4         1707064205     False         0            0                  0.0   \n",
       "\n",
       "   comment_count  ...  steam_china_location  timestamp_dev_responded  \\\n",
       "0              0  ...                   NaN                      NaN   \n",
       "1              0  ...                   NaN                      NaN   \n",
       "2              0  ...                   NaN                      NaN   \n",
       "3              0  ...                   NaN                      NaN   \n",
       "4              0  ...                   NaN                      NaN   \n",
       "\n",
       "   developer_response            steamid  num_games_owned  num_reviews  \\\n",
       "0                 NaN  76561199401546423                0            1   \n",
       "1                 NaN  76561198056822321                0            2   \n",
       "2                 NaN  76561198428748427                0            1   \n",
       "3                 NaN  76561197987140501                0           10   \n",
       "4                 NaN  76561198024864749              375           17   \n",
       "\n",
       "  playtime_forever  playtime_last_two_weeks  playtime_at_review  last_played  \n",
       "0             2027                      322                1986   1707079884  \n",
       "1              316                      316                 316   1707076353  \n",
       "2              847                      410                 804   1707075660  \n",
       "3             7864                      600                7712   1707109536  \n",
       "4             1456                        0                1456   1701029993  \n",
       "\n",
       "[5 rows x 24 columns]"
      ]
     },
     "execution_count": 6,
     "metadata": {},
     "output_type": "execute_result"
    }
   ],
   "source": [
    "df.head()"
   ]
  },
  {
   "cell_type": "markdown",
   "metadata": {},
   "source": [
    "### POS taggin for fetching important attributes"
   ]
  },
  {
   "cell_type": "code",
   "execution_count": 17,
   "metadata": {},
   "outputs": [
    {
     "name": "stderr",
     "output_type": "stream",
     "text": [
      "[nltk_data] Downloading package averaged_perceptron_tagger to\n",
      "[nltk_data]     /Users/emilywu/nltk_data...\n",
      "[nltk_data]   Package averaged_perceptron_tagger is already up-to-\n",
      "[nltk_data]       date!\n",
      "[nltk_data] Downloading package punkt to /Users/emilywu/nltk_data...\n",
      "[nltk_data]   Package punkt is already up-to-date!\n",
      "[nltk_data] Downloading package stopwords to\n",
      "[nltk_data]     /Users/emilywu/nltk_data...\n",
      "[nltk_data]   Package stopwords is already up-to-date!\n"
     ]
    },
    {
     "name": "stdout",
     "output_type": "stream",
     "text": [
      "                                                  review  \\\n",
      "0      Fun game to play when you've had a long day an...   \n",
      "1      Pros:\\n-Animals\\n-Party\\n-Funny mechanics\\n-A ...   \n",
      "2        10/10 Would drop kick a cat without feeling bad   \n",
      "3      Very fun game. The animals are very cute, the ...   \n",
      "4      Game has been out for 4 months and they only a...   \n",
      "...                                                  ...   \n",
      "10561  A Wildly Fun Time, But Penguins Are Missing!\\n...   \n",
      "10562                    Needs more penguins, great game   \n",
      "10563  ---{ ☑Graphics☑ }---\\n☐ You forget what realit...   \n",
      "10564  I remember laughing this hard with friends in ...   \n",
      "10565  [h1] Do Not Trust The Negative Reviews! [/h1]\\...   \n",
      "\n",
      "                                     attributes_patterns  \n",
      "0                        [long day, fun easy, easy game]  \n",
      "1      [-Funny mechanics, short while, ranked system,...  \n",
      "2                                                     []  \n",
      "3                       [fun game, new skins/characters]  \n",
      "4                   [new content, old level, social hub]  \n",
      "...                                                  ...  \n",
      "10561  [absolute blast, hilarious mayhem, quirky char...  \n",
      "10562                                       [great game]  \n",
      "10563  [good ☐, paint dry, good ☑, spare computer, u ...  \n",
      "10564                                      [super smash]  \n",
      "10565  [[ h1, few hours, negative reviews, long time,...  \n",
      "\n",
      "[10566 rows x 2 columns]\n"
     ]
    }
   ],
   "source": [
    "nltk.download('averaged_perceptron_tagger')\n",
    "nltk.download('punkt')\n",
    "nltk.download('stopwords')\n",
    "\n",
    "\n",
    "\n",
    "# Define a function to find patterns like adjective-noun and noun-adjective\n",
    "def find_adj_noun_patterns(text):\n",
    "    # Tokenize and POS tag\n",
    "    tokens = word_tokenize(text)\n",
    "    tags = nltk.pos_tag(tokens)\n",
    "    \n",
    "    # Look for patterns: adjective followed by a noun and noun followed by an adjective\n",
    "    patterns = []\n",
    "    for i in range(len(tags) - 1):\n",
    "        word1, tag1 = tags[i]\n",
    "        word2, tag2 = tags[i + 1]\n",
    "        if (tag1 in ['JJ', 'JJR', 'JJS'] and tag2 in ['NN', 'NNS']) or \\\n",
    "           (tag1 in ['NN', 'NNS'] and tag2 in ['JJ', 'JJR', 'JJS']):\n",
    "            patterns.append(word1 + ' ' + word2)\n",
    "    return patterns\n",
    "\n",
    "# Apply the function to each review\n",
    "df['review'] = df['review'].astype(str)\n",
    "df['attributes_patterns'] = df['review'].apply(find_adj_noun_patterns)\n",
    "\n",
    "# Now, df['attributes_patterns'] contains the patterns for each review\n",
    "print(df[['review', 'attributes_patterns']])\n"
   ]
  },
  {
   "cell_type": "code",
   "execution_count": 13,
   "metadata": {},
   "outputs": [
    {
     "name": "stdout",
     "output_type": "stream",
     "text": [
      "DataFrame saved to /Users/emilywu/Desktop/MMA/Text Analysis/POS_reviews.csv\n"
     ]
    }
   ],
   "source": [
    "\n",
    "# Save the DataFrame to a CSV file\n",
    "output_file_path = '/Users/emilywu/Desktop/MMA/Text Analysis/POS_reviews.csv'  # Specify your file path here\n",
    "df.to_csv(output_file_path, index=False)\n",
    "\n",
    "print(f\"DataFrame saved to {output_file_path}\")\n"
   ]
  },
  {
   "cell_type": "code",
   "execution_count": 12,
   "metadata": {},
   "outputs": [
    {
     "name": "stdout",
     "output_type": "stream",
     "text": [
      "             Pattern  Count\n",
      "0           fun game    310\n",
      "1          good game    260\n",
      "2       offline mode    185\n",
      "3           much fun    178\n",
      "4   negative reviews    176\n",
      "..               ...    ...\n",
      "95        silly game     14\n",
      "96        first time     14\n",
      "97         fun games     14\n",
      "98     other animals     14\n",
      "99        same thing     14\n",
      "\n",
      "[100 rows x 2 columns]\n"
     ]
    }
   ],
   "source": [
    "from collections import Counter\n",
    "\n",
    "#  df['attributes_patterns'] contains lists of (word1, word2) tuples as patterns\n",
    "\n",
    "# Flatten all the lists in the column into one big list\n",
    "all_patterns = [pattern for sublist in df['attributes_patterns'] for pattern in sublist]\n",
    "\n",
    "# Count the occurrences of each pattern\n",
    "pattern_counts = Counter(all_patterns)\n",
    "\n",
    "# Get the top 100 most common patterns\n",
    "top_100_patterns = pattern_counts.most_common(100)\n",
    "\n",
    "# Convert top 50 patterns to a DataFrame for easier handling and viewing\n",
    "top_100_df = pd.DataFrame(top_100_patterns, columns=['Pattern', 'Count'])\n",
    "\n",
    "# You might want to save this to a CSV as well\n",
    "top_100_df.to_csv('/Users/emilywu/Desktop/MMA/Text Analysis/top_50_attribute_patterns.csv', index=False)\n",
    "\n",
    "# If you want to work with it within your code, you can also convert it to a dictionary\n",
    "top_100_dict = dict(top_100_patterns)\n",
    "\n",
    "# Now you have the top 50 patterns in both a DataFrame and a dictionary\n",
    "print(top_100_df)\n"
   ]
  },
  {
   "cell_type": "code",
   "execution_count": 13,
   "metadata": {},
   "outputs": [
    {
     "name": "stdout",
     "output_type": "stream",
     "text": [
      "DataFrame saved to /Users/emilywu/Desktop/MMA/Text Analysis/top100_POS_reviews.csv\n"
     ]
    }
   ],
   "source": [
    "output_file_path = '/Users/emilywu/Desktop/MMA/Text Analysis/top100_POS_reviews.csv'  # Specify your file path here\n",
    "top_100_df.to_csv(output_file_path, index=False)\n",
    "\n",
    "print(f\"DataFrame saved to {output_file_path}\")"
   ]
  },
  {
   "cell_type": "code",
   "execution_count": 22,
   "metadata": {},
   "outputs": [
    {
     "data": {
      "text/plain": [
       "Index(['recommendationid', 'language', 'review', 'timestamp_created',\n",
       "       'timestamp_updated', 'voted_up', 'votes_up', 'votes_funny',\n",
       "       'weighted_vote_score', 'comment_count', 'steam_purchase',\n",
       "       'received_for_free', 'written_during_early_access',\n",
       "       'hidden_in_steam_china', 'steam_china_location',\n",
       "       'timestamp_dev_responded', 'developer_response', 'steamid',\n",
       "       'num_games_owned', 'num_reviews', 'playtime_forever',\n",
       "       'playtime_last_two_weeks', 'playtime_at_review', 'last_played',\n",
       "       'attributes_patterns'],\n",
       "      dtype='object')"
      ]
     },
     "execution_count": 22,
     "metadata": {},
     "output_type": "execute_result"
    }
   ],
   "source": [
    "df.columns"
   ]
  },
  {
   "cell_type": "markdown",
   "metadata": {},
   "source": [
    "### User segmentation using KNN"
   ]
  },
  {
   "cell_type": "code",
   "execution_count": 23,
   "metadata": {},
   "outputs": [
    {
     "name": "stdout",
     "output_type": "stream",
     "text": [
      "num_games_owned            0\n",
      "num_reviews                0\n",
      "playtime_forever           0\n",
      "playtime_last_two_weeks    0\n",
      "playtime_at_review         0\n",
      "last_played                0\n",
      "dtype: int64\n"
     ]
    }
   ],
   "source": [
    "#check missing values\n",
    "import pandas as pd\n",
    "\n",
    "# Assuming df is your DataFrame\n",
    "columns = ['num_games_owned', 'num_reviews', 'playtime_forever', 'playtime_last_two_weeks', 'playtime_at_review', 'last_played']\n",
    "\n",
    "# Checking for missing values in the specified columns\n",
    "missing_values = df[columns].isnull().sum()\n",
    "\n",
    "print(missing_values)\n"
   ]
  },
  {
   "cell_type": "code",
   "execution_count": 24,
   "metadata": {},
   "outputs": [
    {
     "name": "stderr",
     "output_type": "stream",
     "text": [
      "/Users/emilywu/anaconda3/envs/Conda_3117/lib/python3.11/site-packages/sklearn/cluster/_kmeans.py:870: FutureWarning: The default value of `n_init` will change from 10 to 'auto' in 1.4. Set the value of `n_init` explicitly to suppress the warning\n",
      "  warnings.warn(\n",
      "/Users/emilywu/anaconda3/envs/Conda_3117/lib/python3.11/site-packages/sklearn/cluster/_kmeans.py:870: FutureWarning: The default value of `n_init` will change from 10 to 'auto' in 1.4. Set the value of `n_init` explicitly to suppress the warning\n",
      "  warnings.warn(\n",
      "/Users/emilywu/anaconda3/envs/Conda_3117/lib/python3.11/site-packages/sklearn/cluster/_kmeans.py:870: FutureWarning: The default value of `n_init` will change from 10 to 'auto' in 1.4. Set the value of `n_init` explicitly to suppress the warning\n",
      "  warnings.warn(\n",
      "/Users/emilywu/anaconda3/envs/Conda_3117/lib/python3.11/site-packages/sklearn/cluster/_kmeans.py:870: FutureWarning: The default value of `n_init` will change from 10 to 'auto' in 1.4. Set the value of `n_init` explicitly to suppress the warning\n",
      "  warnings.warn(\n",
      "/Users/emilywu/anaconda3/envs/Conda_3117/lib/python3.11/site-packages/sklearn/cluster/_kmeans.py:870: FutureWarning: The default value of `n_init` will change from 10 to 'auto' in 1.4. Set the value of `n_init` explicitly to suppress the warning\n",
      "  warnings.warn(\n",
      "/Users/emilywu/anaconda3/envs/Conda_3117/lib/python3.11/site-packages/sklearn/cluster/_kmeans.py:870: FutureWarning: The default value of `n_init` will change from 10 to 'auto' in 1.4. Set the value of `n_init` explicitly to suppress the warning\n",
      "  warnings.warn(\n",
      "/Users/emilywu/anaconda3/envs/Conda_3117/lib/python3.11/site-packages/sklearn/cluster/_kmeans.py:870: FutureWarning: The default value of `n_init` will change from 10 to 'auto' in 1.4. Set the value of `n_init` explicitly to suppress the warning\n",
      "  warnings.warn(\n",
      "/Users/emilywu/anaconda3/envs/Conda_3117/lib/python3.11/site-packages/sklearn/cluster/_kmeans.py:870: FutureWarning: The default value of `n_init` will change from 10 to 'auto' in 1.4. Set the value of `n_init` explicitly to suppress the warning\n",
      "  warnings.warn(\n",
      "/Users/emilywu/anaconda3/envs/Conda_3117/lib/python3.11/site-packages/sklearn/cluster/_kmeans.py:870: FutureWarning: The default value of `n_init` will change from 10 to 'auto' in 1.4. Set the value of `n_init` explicitly to suppress the warning\n",
      "  warnings.warn(\n",
      "/Users/emilywu/anaconda3/envs/Conda_3117/lib/python3.11/site-packages/sklearn/cluster/_kmeans.py:870: FutureWarning: The default value of `n_init` will change from 10 to 'auto' in 1.4. Set the value of `n_init` explicitly to suppress the warning\n",
      "  warnings.warn(\n"
     ]
    },
    {
     "data": {
      "image/png": "[encoded data removed]",
      "text/plain": [
       "<Figure size 640x480 with 1 Axes>"
      ]
     },
     "metadata": {},
     "output_type": "display_data"
    }
   ],
   "source": [
    "from sklearn.cluster import KMeans\n",
    "from sklearn.preprocessing import StandardScaler\n",
    "\n",
    "\n",
    "features = ['num_games_owned', 'num_reviews', 'playtime_forever', 'playtime_last_two_weeks', 'playtime_at_review', 'last_played']\n",
    "\n",
    "\n",
    "# Standardizing the features\n",
    "scaler = StandardScaler()\n",
    "df_scaled = scaler.fit_transform(df[features])\n",
    "\n",
    "# Determining the number of clusters (k) - Elbow Method\n",
    "inertia = []\n",
    "for k in range(1, 11):\n",
    "    kmeans = KMeans(n_clusters=k, random_state=42)\n",
    "    kmeans.fit(df_scaled)\n",
    "    inertia.append(kmeans.inertia_)\n",
    "\n",
    "#Plotting the Elbow Method \n",
    "import matplotlib.pyplot as plt\n",
    "plt.plot(range(1, 11), inertia, marker='o'); plt.title('Elbow Method'); plt.xlabel('Number of clusters'); plt.ylabel('Inertia'); plt.show()\n",
    "\n"
   ]
  },
  {
   "cell_type": "code",
   "execution_count": 25,
   "metadata": {},
   "outputs": [
    {
     "name": "stderr",
     "output_type": "stream",
     "text": [
      "/Users/emilywu/anaconda3/envs/Conda_3117/lib/python3.11/site-packages/sklearn/cluster/_kmeans.py:870: FutureWarning: The default value of `n_init` will change from 10 to 'auto' in 1.4. Set the value of `n_init` explicitly to suppress the warning\n",
      "  warnings.warn(\n"
     ]
    },
    {
     "name": "stdout",
     "output_type": "stream",
     "text": [
      "Number of clusters: 2, Silhouette Score: 0.64\n"
     ]
    },
    {
     "name": "stderr",
     "output_type": "stream",
     "text": [
      "/Users/emilywu/anaconda3/envs/Conda_3117/lib/python3.11/site-packages/sklearn/cluster/_kmeans.py:870: FutureWarning: The default value of `n_init` will change from 10 to 'auto' in 1.4. Set the value of `n_init` explicitly to suppress the warning\n",
      "  warnings.warn(\n"
     ]
    },
    {
     "name": "stdout",
     "output_type": "stream",
     "text": [
      "Number of clusters: 3, Silhouette Score: 0.31\n"
     ]
    },
    {
     "name": "stderr",
     "output_type": "stream",
     "text": [
      "/Users/emilywu/anaconda3/envs/Conda_3117/lib/python3.11/site-packages/sklearn/cluster/_kmeans.py:870: FutureWarning: The default value of `n_init` will change from 10 to 'auto' in 1.4. Set the value of `n_init` explicitly to suppress the warning\n",
      "  warnings.warn(\n"
     ]
    },
    {
     "name": "stdout",
     "output_type": "stream",
     "text": [
      "Number of clusters: 4, Silhouette Score: 0.32\n"
     ]
    },
    {
     "name": "stderr",
     "output_type": "stream",
     "text": [
      "/Users/emilywu/anaconda3/envs/Conda_3117/lib/python3.11/site-packages/sklearn/cluster/_kmeans.py:870: FutureWarning: The default value of `n_init` will change from 10 to 'auto' in 1.4. Set the value of `n_init` explicitly to suppress the warning\n",
      "  warnings.warn(\n"
     ]
    },
    {
     "name": "stdout",
     "output_type": "stream",
     "text": [
      "Number of clusters: 5, Silhouette Score: 0.33\n"
     ]
    },
    {
     "name": "stderr",
     "output_type": "stream",
     "text": [
      "/Users/emilywu/anaconda3/envs/Conda_3117/lib/python3.11/site-packages/sklearn/cluster/_kmeans.py:870: FutureWarning: The default value of `n_init` will change from 10 to 'auto' in 1.4. Set the value of `n_init` explicitly to suppress the warning\n",
      "  warnings.warn(\n"
     ]
    },
    {
     "name": "stdout",
     "output_type": "stream",
     "text": [
      "Number of clusters: 6, Silhouette Score: 0.34\n"
     ]
    },
    {
     "name": "stderr",
     "output_type": "stream",
     "text": [
      "/Users/emilywu/anaconda3/envs/Conda_3117/lib/python3.11/site-packages/sklearn/cluster/_kmeans.py:870: FutureWarning: The default value of `n_init` will change from 10 to 'auto' in 1.4. Set the value of `n_init` explicitly to suppress the warning\n",
      "  warnings.warn(\n"
     ]
    },
    {
     "name": "stdout",
     "output_type": "stream",
     "text": [
      "Number of clusters: 7, Silhouette Score: 0.35\n"
     ]
    },
    {
     "name": "stderr",
     "output_type": "stream",
     "text": [
      "/Users/emilywu/anaconda3/envs/Conda_3117/lib/python3.11/site-packages/sklearn/cluster/_kmeans.py:870: FutureWarning: The default value of `n_init` will change from 10 to 'auto' in 1.4. Set the value of `n_init` explicitly to suppress the warning\n",
      "  warnings.warn(\n"
     ]
    },
    {
     "name": "stdout",
     "output_type": "stream",
     "text": [
      "Number of clusters: 8, Silhouette Score: 0.36\n"
     ]
    },
    {
     "name": "stderr",
     "output_type": "stream",
     "text": [
      "/Users/emilywu/anaconda3/envs/Conda_3117/lib/python3.11/site-packages/sklearn/cluster/_kmeans.py:870: FutureWarning: The default value of `n_init` will change from 10 to 'auto' in 1.4. Set the value of `n_init` explicitly to suppress the warning\n",
      "  warnings.warn(\n"
     ]
    },
    {
     "name": "stdout",
     "output_type": "stream",
     "text": [
      "Number of clusters: 9, Silhouette Score: 0.36\n"
     ]
    },
    {
     "name": "stderr",
     "output_type": "stream",
     "text": [
      "/Users/emilywu/anaconda3/envs/Conda_3117/lib/python3.11/site-packages/sklearn/cluster/_kmeans.py:870: FutureWarning: The default value of `n_init` will change from 10 to 'auto' in 1.4. Set the value of `n_init` explicitly to suppress the warning\n",
      "  warnings.warn(\n"
     ]
    },
    {
     "name": "stdout",
     "output_type": "stream",
     "text": [
      "Number of clusters: 10, Silhouette Score: 0.34\n"
     ]
    },
    {
     "data": {
      "image/png": "[encoded data removed]",
      "text/plain": [
       "<Figure size 640x480 with 1 Axes>"
      ]
     },
     "metadata": {},
     "output_type": "display_data"
    },
    {
     "name": "stdout",
     "output_type": "stream",
     "text": [
      "The optimal number of clusters is: 2\n"
     ]
    }
   ],
   "source": [
    "from sklearn.metrics import silhouette_score\n",
    "\n",
    "# Assuming df_scaled is your standardized feature matrix from the previous step\n",
    "range_n_clusters = list(range(2, 11))  # Starting from 2 since silhouette_score requires at least 2 clusters\n",
    "silhouette_scores = []\n",
    "\n",
    "for n_clusters in range_n_clusters:\n",
    "    kmeans = KMeans(n_clusters=n_clusters, random_state=42)\n",
    "    cluster_labels = kmeans.fit_predict(df_scaled)\n",
    "    silhouette_avg = silhouette_score(df_scaled, cluster_labels)\n",
    "    silhouette_scores.append(silhouette_avg)\n",
    "    print(f\"Number of clusters: {n_clusters}, Silhouette Score: {silhouette_avg:.2f}\")\n",
    "\n",
    "# Plotting the silhouette scores for different numbers of clusters\n",
    "import matplotlib.pyplot as plt\n",
    "\n",
    "plt.plot(range_n_clusters, silhouette_scores, marker='o')\n",
    "plt.title('Silhouette Scores for Different Numbers of Clusters')\n",
    "plt.xlabel('Number of Clusters')\n",
    "plt.ylabel('Silhouette Score')\n",
    "plt.show()\n",
    "\n",
    "# Identify the optimal number of clusters as the one with the highest Silhouette Score\n",
    "optimal_n_clusters = range_n_clusters[silhouette_scores.index(max(silhouette_scores))]\n",
    "print(f\"The optimal number of clusters is: {optimal_n_clusters}\")\n"
   ]
  },
  {
   "cell_type": "code",
   "execution_count": 26,
   "metadata": {},
   "outputs": [
    {
     "name": "stderr",
     "output_type": "stream",
     "text": [
      "/Users/emilywu/anaconda3/envs/Conda_3117/lib/python3.11/site-packages/sklearn/cluster/_kmeans.py:870: FutureWarning: The default value of `n_init` will change from 10 to 'auto' in 1.4. Set the value of `n_init` explicitly to suppress the warning\n",
      "  warnings.warn(\n"
     ]
    }
   ],
   "source": [
    "# Choose the k after which the inertia decrease starts to diminish\n",
    "k_optimal = 2  # Example, adjust based on your Elbow curve\n",
    "\n",
    "# Clustering with the chosen k\n",
    "kmeans = KMeans(n_clusters=k_optimal, random_state=42)\n",
    "df['cluster'] = kmeans.fit_predict(df_scaled)\n",
    "\n",
    "\n"
   ]
  },
  {
   "cell_type": "code",
   "execution_count": 28,
   "metadata": {},
   "outputs": [],
   "source": [
    "#output as csv\n",
    "output_file_path = '/Users/emilywu/Desktop/MMA/Text Analysis/user_segmentation.csv'  # Specify your file path here\n",
    "df.to_csv(output_file_path, index=False)"
   ]
  }
 ],
 "metadata": {
  "kernelspec": {
   "display_name": "Conda_3117",
   "language": "python",
   "name": "python3"
  },
  "language_info": {
   "codemirror_mode": {
    "name": "ipython",
    "version": 3
   },
   "file_extension": ".py",
   "mimetype": "text/x-python",
   "name": "python",
   "nbconvert_exporter": "python",
   "pygments_lexer": "ipython3",
   "version": "3.11.7"
  }
 },
 "nbformat": 4,
 "nbformat_minor": 2
}
